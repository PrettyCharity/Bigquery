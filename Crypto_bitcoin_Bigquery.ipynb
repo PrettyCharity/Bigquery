{
  "nbformat": 4,
  "nbformat_minor": 0,
  "metadata": {
    "colab": {
      "name": "Crypto_bitcoin Bigquery.ipynb",
      "provenance": [],
      "authorship_tag": "ABX9TyO+4Psr5OAUo1SMwy0wJEIk",
      "include_colab_link": true
    },
    "kernelspec": {
      "name": "python3",
      "display_name": "Python 3"
    },
    "language_info": {
      "name": "python"
    }
  },
  "cells": [
    {
      "cell_type": "markdown",
      "metadata": {
        "id": "view-in-github",
        "colab_type": "text"
      },
      "source": [
        "<a href=\"https://colab.research.google.com/github/PrettyCharity/Bigquery/blob/main/Crypto_bitcoin_Bigquery.ipynb\" target=\"_parent\"><img src=\"https://colab.research.google.com/assets/colab-badge.svg\" alt=\"Open In Colab\"/></a>"
      ]
    },
    {
      "cell_type": "code",
      "execution_count": 1,
      "metadata": {
        "cellView": "form",
        "id": "zbdscF64GaCK"
      },
      "outputs": [],
      "source": [
        "#@title Google Cloud Credentials\n",
        "import os\n",
        "from google.cloud import bigquery\n",
        "# Credentials and the path\n",
        "credential_path = \"key.json\"\n",
        "os.environ['GOOGLE_APPLICATION_CREDENTIALS'] = credential_path"
      ]
    },
    {
      "cell_type": "code",
      "source": [
        "#@title Accessing the crypto_bitcoin via bigquery object\n",
        "client = bigquery.Client()\n",
        "dataset_ref = client.dataset('crypto_bitcoin', project = 'bigquery-public-data')\n",
        "dataset = client.get_dataset(dataset_ref)"
      ],
      "metadata": {
        "cellView": "form",
        "id": "GM1X_G3LG5UE"
      },
      "execution_count": 2,
      "outputs": []
    },
    {
      "cell_type": "code",
      "source": [
        "#@title Exploring the tables of crypto_bitcoin\n",
        "tables = client.list_tables(dataset)\n",
        "for table in tables:\n",
        "  print(table.table_id)"
      ],
      "metadata": {
        "colab": {
          "base_uri": "https://localhost:8080/"
        },
        "cellView": "form",
        "id": "VV2U0Q3AHU1b",
        "outputId": "0145bda5-ed81-4654-c2d3-ff2b0e482c01"
      },
      "execution_count": 4,
      "outputs": [
        {
          "output_type": "stream",
          "name": "stdout",
          "text": [
            "blocks\n",
            "inputs\n",
            "outputs\n",
            "transactions\n"
          ]
        }
      ]
    },
    {
      "cell_type": "code",
      "source": [
        "#@title Obtaining 'transactions' table\n",
        "table_ref = dataset_ref.table('transactions')\n",
        "table = client.get_table(table_ref)\n",
        "preview = client.list_rows(table, max_results = 5).to_dataframe()\n",
        "print('Table columns:\\n\\n')\n",
        "print(preview.columns)"
      ],
      "metadata": {
        "colab": {
          "base_uri": "https://localhost:8080/"
        },
        "cellView": "form",
        "id": "0SOX_S0ZHptg",
        "outputId": "7e79f1c9-5f0e-42ef-dbbd-902aba8556cf"
      },
      "execution_count": 9,
      "outputs": [
        {
          "output_type": "stream",
          "name": "stdout",
          "text": [
            "Table columns:\n",
            "\n",
            "\n",
            "Index(['hash', 'size', 'virtual_size', 'version', 'lock_time', 'block_hash',\n",
            "       'block_number', 'block_timestamp', 'block_timestamp_month',\n",
            "       'input_count', 'output_count', 'input_value', 'output_value',\n",
            "       'is_coinbase', 'fee', 'inputs', 'outputs'],\n",
            "      dtype='object')\n"
          ]
        }
      ]
    },
    {
      "cell_type": "code",
      "source": [
        "#@title Construct the SQL query to obtain transaction numbers per date\n",
        "query = \"\"\"\n",
        "        WITH time AS\n",
        "        (\n",
        "          SELECT DATE(block_timestamp) AS trans_date\n",
        "          FROM `bigquery-public-data.crypto_bitcoin.transactions`\n",
        "        )\n",
        "        SELECT COUNT(1) AS transactions, trans_date\n",
        "        FROM time\n",
        "        GROUP BY trans_date\n",
        "        ORDER BY trans_date\n",
        "        \"\"\"\n"
      ],
      "metadata": {
        "cellView": "form",
        "id": "LplxSU9YITbU"
      },
      "execution_count": 12,
      "outputs": []
    },
    {
      "cell_type": "code",
      "source": [
        "#@title Fetch data from the server and plot\n",
        "# API request - run the query, and convert the results to a pandas DataFrame\n",
        "query_job = client.query(query)\n",
        "transactions_per_date = query_job.to_dataframe()\n",
        "\n",
        "# Plot results\n",
        "transactions_per_date.set_index('trans_date').plot()"
      ],
      "metadata": {
        "colab": {
          "base_uri": "https://localhost:8080/",
          "height": 298
        },
        "cellView": "form",
        "id": "xWw39bRCJL_F",
        "outputId": "4987c2f5-56f4-42c2-af97-e5d227a74432"
      },
      "execution_count": 13,
      "outputs": [
        {
          "output_type": "execute_result",
          "data": {
            "text/plain": [
              "<matplotlib.axes._subplots.AxesSubplot at 0x7f05d4baa7d0>"
            ]
          },
          "metadata": {},
          "execution_count": 13
        },
        {
          "output_type": "display_data",
          "data": {
            "text/plain": [
              "<Figure size 432x288 with 1 Axes>"
            ],
            "image/png": "[encoded data removed]"
          },
          "metadata": {
            "needs_background": "light"
          }
        }
      ]
    }
  ]
}