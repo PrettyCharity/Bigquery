{
  "nbformat": 4,
  "nbformat_minor": 0,
  "metadata": {
    "colab": {
      "name": "Hacker News -  Bigquery.ipynb",
      "provenance": [],
      "authorship_tag": "ABX9TyPCw4lq3cyD1mO8vWDb6Fcc",
      "include_colab_link": true
    },
    "kernelspec": {
      "name": "python3",
      "display_name": "Python 3"
    },
    "language_info": {
      "name": "python"
    }
  },
  "cells": [
    {
      "cell_type": "markdown",
      "metadata": {
        "id": "view-in-github",
        "colab_type": "text"
      },
      "source": [
        "<a href=\"https://colab.research.google.com/github/PrettyCharity/Bigquery/blob/main/Hacker_News_Bigquery.ipynb\" target=\"_parent\"><img src=\"https://colab.research.google.com/assets/colab-badge.svg\" alt=\"Open In Colab\"/></a>"
      ]
    },
    {
      "cell_type": "code",
      "execution_count": 1,
      "metadata": {
        "cellView": "form",
        "id": "zbdscF64GaCK"
      },
      "outputs": [],
      "source": [
        "#@title Google Cloud Credentials\n",
        "import os\n",
        "from google.cloud import bigquery\n",
        "# Credentials and the path\n",
        "credential_path = \"key.json\"\n",
        "os.environ['GOOGLE_APPLICATION_CREDENTIALS'] = credential_path"
      ]
    },
    {
      "cell_type": "code",
      "source": [
        "#@title Accessing the hacker_news via bigquery object\n",
        "client = bigquery.Client()\n",
        "dataset_ref = client.dataset('hacker_news', project = 'bigquery-public-data')\n",
        "dataset = client.get_dataset(dataset_ref)"
      ],
      "metadata": {
        "cellView": "form",
        "id": "GM1X_G3LG5UE"
      },
      "execution_count": 2,
      "outputs": []
    },
    {
      "cell_type": "code",
      "source": [
        "#@title Exploring the tables of hacker_news\n",
        "tables = client.list_tables(dataset)\n",
        "for table in tables:\n",
        "  print(table.table_id)"
      ],
      "metadata": {
        "colab": {
          "base_uri": "https://localhost:8080/"
        },
        "id": "VV2U0Q3AHU1b",
        "outputId": "80658f88-e0c4-44d6-9f07-7158d5901942"
      },
      "execution_count": 3,
      "outputs": [
        {
          "output_type": "stream",
          "name": "stdout",
          "text": [
            "comments\n",
            "full\n",
            "full_201510\n",
            "stories\n"
          ]
        }
      ]
    },
    {
      "cell_type": "code",
      "source": [
        "#@title Obtaining 'comments' table\n",
        "table_ref = dataset_ref.table('comments')\n",
        "table = client.get_table(table_ref)\n",
        "preview = client.list_rows(table, max_results = 5).to_dataframe()\n",
        "print('Table columns:\\n\\n')\n",
        "print(preview.columns)"
      ],
      "metadata": {
        "colab": {
          "base_uri": "https://localhost:8080/"
        },
        "cellView": "form",
        "id": "0SOX_S0ZHptg",
        "outputId": "fda648ac-090e-40f9-cc29-d432bbb83fab"
      },
      "execution_count": 4,
      "outputs": [
        {
          "output_type": "stream",
          "name": "stdout",
          "text": [
            "Table columns:\n",
            "\n",
            "\n",
            "Index(['id', 'by', 'author', 'time', 'time_ts', 'text', 'parent', 'deleted',\n",
            "       'dead', 'ranking'],\n",
            "      dtype='object')\n"
          ]
        }
      ]
    },
    {
      "cell_type": "code",
      "source": [
        "#@title Construct the SQL query to prolific commenters\n",
        "query = \"\"\"\n",
        "        SELECT author, COUNT(id) AS NumPosts\n",
        "        FROM `bigquery-public-data.hacker_news.comments`\n",
        "        GROUP BY author\n",
        "        HAVING COUNT(id) > 10000\n",
        "        ORDER BY NumPosts DESC\n",
        "        \"\"\"\n"
      ],
      "metadata": {
        "cellView": "form",
        "id": "LplxSU9YITbU"
      },
      "execution_count": 9,
      "outputs": []
    },
    {
      "cell_type": "code",
      "source": [
        "#@title Fetch data from the server and show the results\n",
        "# API request - run the query, and convert the results to a pandas DataFrame\n",
        "query_job = client.query(query)\n",
        "commenters = query_job.to_dataframe()\n",
        "\n",
        "commenters.style"
      ],
      "metadata": {
        "colab": {
          "base_uri": "https://localhost:8080/",
          "height": 456
        },
        "cellView": "form",
        "id": "xWw39bRCJL_F",
        "outputId": "042c348b-b865-409a-8bbf-3a55e1c795c0"
      },
      "execution_count": 10,
      "outputs": [
        {
          "output_type": "execute_result",
          "data": {
            "text/plain": [
              "<pandas.io.formats.style.Styler at 0x7f34e64a1a90>"
            ],
            "text/html": [
              "<style type=\"text/css\">\n",
              "</style>\n",
              "<table id=\"T_0d48d_\" class=\"dataframe\">\n",
              "  <thead>\n",
              "    <tr>\n",
              "      <th class=\"blank level0\" >&nbsp;</th>\n",
              "      <th class=\"col_heading level0 col0\" >author</th>\n",
              "      <th class=\"col_heading level0 col1\" >NumPosts</th>\n",
              "    </tr>\n",
              "  </thead>\n",
              "  <tbody>\n",
              "    <tr>\n",
              "      <th id=\"T_0d48d_level0_row0\" class=\"row_heading level0 row0\" >0</th>\n",
              "      <td id=\"T_0d48d_row0_col0\" class=\"data row0 col0\" >None</td>\n",
              "      <td id=\"T_0d48d_row0_col1\" class=\"data row0 col1\" >227736</td>\n",
              "    </tr>\n",
              "    <tr>\n",
              "      <th id=\"T_0d48d_level0_row1\" class=\"row_heading level0 row1\" >1</th>\n",
              "      <td id=\"T_0d48d_row1_col0\" class=\"data row1 col0\" >tptacek</td>\n",
              "      <td id=\"T_0d48d_row1_col1\" class=\"data row1 col1\" >33839</td>\n",
              "    </tr>\n",
              "    <tr>\n",
              "      <th id=\"T_0d48d_level0_row2\" class=\"row_heading level0 row2\" >2</th>\n",
              "      <td id=\"T_0d48d_row2_col0\" class=\"data row2 col0\" >jacquesm</td>\n",
              "      <td id=\"T_0d48d_row2_col1\" class=\"data row2 col1\" >21107</td>\n",
              "    </tr>\n",
              "    <tr>\n",
              "      <th id=\"T_0d48d_level0_row3\" class=\"row_heading level0 row3\" >3</th>\n",
              "      <td id=\"T_0d48d_row3_col0\" class=\"data row3 col0\" >jrockway</td>\n",
              "      <td id=\"T_0d48d_row3_col1\" class=\"data row3 col1\" >13626</td>\n",
              "    </tr>\n",
              "    <tr>\n",
              "      <th id=\"T_0d48d_level0_row4\" class=\"row_heading level0 row4\" >4</th>\n",
              "      <td id=\"T_0d48d_row4_col0\" class=\"data row4 col0\" >DanBC</td>\n",
              "      <td id=\"T_0d48d_row4_col1\" class=\"data row4 col1\" >12902</td>\n",
              "    </tr>\n",
              "    <tr>\n",
              "      <th id=\"T_0d48d_level0_row5\" class=\"row_heading level0 row5\" >5</th>\n",
              "      <td id=\"T_0d48d_row5_col0\" class=\"data row5 col0\" >anigbrowl</td>\n",
              "      <td id=\"T_0d48d_row5_col1\" class=\"data row5 col1\" >11395</td>\n",
              "    </tr>\n",
              "    <tr>\n",
              "      <th id=\"T_0d48d_level0_row6\" class=\"row_heading level0 row6\" >6</th>\n",
              "      <td id=\"T_0d48d_row6_col0\" class=\"data row6 col0\" >rayiner</td>\n",
              "      <td id=\"T_0d48d_row6_col1\" class=\"data row6 col1\" >11080</td>\n",
              "    </tr>\n",
              "    <tr>\n",
              "      <th id=\"T_0d48d_level0_row7\" class=\"row_heading level0 row7\" >7</th>\n",
              "      <td id=\"T_0d48d_row7_col0\" class=\"data row7 col0\" >sp332</td>\n",
              "      <td id=\"T_0d48d_row7_col1\" class=\"data row7 col1\" >10882</td>\n",
              "    </tr>\n",
              "    <tr>\n",
              "      <th id=\"T_0d48d_level0_row8\" class=\"row_heading level0 row8\" >8</th>\n",
              "      <td id=\"T_0d48d_row8_col0\" class=\"data row8 col0\" >davidw</td>\n",
              "      <td id=\"T_0d48d_row8_col1\" class=\"data row8 col1\" >10764</td>\n",
              "    </tr>\n",
              "    <tr>\n",
              "      <th id=\"T_0d48d_level0_row9\" class=\"row_heading level0 row9\" >9</th>\n",
              "      <td id=\"T_0d48d_row9_col0\" class=\"data row9 col0\" >dragonwriter</td>\n",
              "      <td id=\"T_0d48d_row9_col1\" class=\"data row9 col1\" >10723</td>\n",
              "    </tr>\n",
              "    <tr>\n",
              "      <th id=\"T_0d48d_level0_row10\" class=\"row_heading level0 row10\" >10</th>\n",
              "      <td id=\"T_0d48d_row10_col0\" class=\"data row10 col0\" >rbanffy</td>\n",
              "      <td id=\"T_0d48d_row10_col1\" class=\"data row10 col1\" >10557</td>\n",
              "    </tr>\n",
              "    <tr>\n",
              "      <th id=\"T_0d48d_level0_row11\" class=\"row_heading level0 row11\" >11</th>\n",
              "      <td id=\"T_0d48d_row11_col0\" class=\"data row11 col0\" >eru</td>\n",
              "      <td id=\"T_0d48d_row11_col1\" class=\"data row11 col1\" >10448</td>\n",
              "    </tr>\n",
              "    <tr>\n",
              "      <th id=\"T_0d48d_level0_row12\" class=\"row_heading level0 row12\" >12</th>\n",
              "      <td id=\"T_0d48d_row12_col0\" class=\"data row12 col0\" >stcredzero</td>\n",
              "      <td id=\"T_0d48d_row12_col1\" class=\"data row12 col1\" >10092</td>\n",
              "    </tr>\n",
              "  </tbody>\n",
              "</table>\n"
            ]
          },
          "metadata": {},
          "execution_count": 10
        }
      ]
    }
  ]
}