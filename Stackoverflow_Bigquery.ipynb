{
  "nbformat": 4,
  "nbformat_minor": 0,
  "metadata": {
    "colab": {
      "name": "Stackoverflow -  Bigquery.ipynb",
      "provenance": [],
      "authorship_tag": "ABX9TyO72R9WpkYhHEaxyHefkAAS",
      "include_colab_link": true
    },
    "kernelspec": {
      "name": "python3",
      "display_name": "Python 3"
    },
    "language_info": {
      "name": "python"
    }
  },
  "cells": [
    {
      "cell_type": "markdown",
      "metadata": {
        "id": "view-in-github",
        "colab_type": "text"
      },
      "source": [
        "<a href=\"https://colab.research.google.com/github/PrettyCharity/Bigquery/blob/main/Stackoverflow_Bigquery.ipynb\" target=\"_parent\"><img src=\"https://colab.research.google.com/assets/colab-badge.svg\" alt=\"Open In Colab\"/></a>"
      ]
    },
    {
      "cell_type": "code",
      "execution_count": 1,
      "metadata": {
        "cellView": "form",
        "id": "zbdscF64GaCK"
      },
      "outputs": [],
      "source": [
        "#@title Google Cloud Credentials\n",
        "import os\n",
        "from google.cloud import bigquery\n",
        "# Credentials and the path\n",
        "credential_path = \"key.json\"\n",
        "os.environ['GOOGLE_APPLICATION_CREDENTIALS'] = credential_path"
      ]
    },
    {
      "cell_type": "code",
      "source": [
        "#@title Accessing the 'stackoverflow' via bigquery object\n",
        "client = bigquery.Client()\n",
        "dataset_ref = client.dataset('stackoverflow', project = 'bigquery-public-data')\n",
        "dataset = client.get_dataset(dataset_ref)"
      ],
      "metadata": {
        "cellView": "form",
        "id": "GM1X_G3LG5UE"
      },
      "execution_count": 2,
      "outputs": []
    },
    {
      "cell_type": "code",
      "source": [
        "#@title Exploring the tables of stackoverflow\n",
        "tables = client.list_tables(dataset)\n",
        "for table in tables:\n",
        "  print(table.table_id)"
      ],
      "metadata": {
        "colab": {
          "base_uri": "https://localhost:8080/"
        },
        "id": "VV2U0Q3AHU1b",
        "outputId": "a7345d62-6918-41a7-f2c7-7d868ad6146c",
        "cellView": "form"
      },
      "execution_count": 3,
      "outputs": [
        {
          "output_type": "stream",
          "name": "stdout",
          "text": [
            "badges\n",
            "comments\n",
            "post_history\n",
            "post_links\n",
            "posts_answers\n",
            "posts_moderator_nomination\n",
            "posts_orphaned_tag_wiki\n",
            "posts_privilege_wiki\n",
            "posts_questions\n",
            "posts_tag_wiki\n",
            "posts_tag_wiki_excerpt\n",
            "posts_wiki_placeholder\n",
            "stackoverflow_posts\n",
            "tags\n",
            "users\n",
            "votes\n"
          ]
        }
      ]
    },
    {
      "cell_type": "code",
      "source": [
        "#@title Obtaining 'posts_questions' table\n",
        "table_ref = dataset_ref.table('posts_questions')\n",
        "table = client.get_table(table_ref)\n",
        "preview = client.list_rows(table, max_results = 5).to_dataframe()\n",
        "print('Table posts_questions columns:\\n\\n')\n",
        "print(preview.columns)"
      ],
      "metadata": {
        "colab": {
          "base_uri": "https://localhost:8080/"
        },
        "cellView": "form",
        "id": "0SOX_S0ZHptg",
        "outputId": "3d46b144-60f9-4245-d57b-2df05ccb7219"
      },
      "execution_count": 4,
      "outputs": [
        {
          "output_type": "stream",
          "name": "stdout",
          "text": [
            "Table posts_questions columns:\n",
            "\n",
            "\n",
            "Index(['id', 'title', 'body', 'accepted_answer_id', 'answer_count',\n",
            "       'comment_count', 'community_owned_date', 'creation_date',\n",
            "       'favorite_count', 'last_activity_date', 'last_edit_date',\n",
            "       'last_editor_display_name', 'last_editor_user_id', 'owner_display_name',\n",
            "       'owner_user_id', 'parent_id', 'post_type_id', 'score', 'tags',\n",
            "       'view_count'],\n",
            "      dtype='object')\n"
          ]
        }
      ]
    },
    {
      "cell_type": "code",
      "source": [
        "#@title Obtaining 'posts_answers' table\n",
        "table_ref = dataset_ref.table('posts_answers')\n",
        "table = client.get_table(table_ref)\n",
        "preview = client.list_rows(table, max_results = 5).to_dataframe()\n",
        "print('Table posts_answers columns:\\n\\n')\n",
        "print(preview.columns)"
      ],
      "metadata": {
        "colab": {
          "base_uri": "https://localhost:8080/"
        },
        "cellView": "form",
        "id": "Y-q6lkYSUANl",
        "outputId": "416dedd0-4eaf-4b34-e2df-857bcb5a2a87"
      },
      "execution_count": 5,
      "outputs": [
        {
          "output_type": "stream",
          "name": "stdout",
          "text": [
            "Table posts_answers columns:\n",
            "\n",
            "\n",
            "Index(['id', 'title', 'body', 'accepted_answer_id', 'answer_count',\n",
            "       'comment_count', 'community_owned_date', 'creation_date',\n",
            "       'favorite_count', 'last_activity_date', 'last_edit_date',\n",
            "       'last_editor_display_name', 'last_editor_user_id', 'owner_display_name',\n",
            "       'owner_user_id', 'parent_id', 'post_type_id', 'score', 'tags',\n",
            "       'view_count'],\n",
            "      dtype='object')\n"
          ]
        }
      ]
    },
    {
      "cell_type": "code",
      "source": [
        "#@title Construct the SQL query to find bigquery experts of SOF\n",
        "query = \"\"\"\n",
        "            SELECT a.owner_user_id AS user_id, COUNT(1) AS number_of_answers\n",
        "            FROM `bigquery-public-data.stackoverflow.posts_questions` as q\n",
        "            INNER JOIN `bigquery-public-data.stackoverflow.posts_answers` as a\n",
        "                  ON q.id = a.parent_id\n",
        "            WHERE q.tags LIKE '%bigquery%'\n",
        "            GROUP BY a.owner_user_id\n",
        "            ORDER BY number_of_answers DESC\n",
        "        \"\"\" \n"
      ],
      "metadata": {
        "cellView": "form",
        "id": "LplxSU9YITbU"
      },
      "execution_count": 7,
      "outputs": []
    },
    {
      "cell_type": "code",
      "source": [
        "#@title Fetch data from the server and show the results\n",
        "# API request - run the query, and convert the results to a pandas DataFrame\n",
        "query_job = client.query(query)\n",
        "bigquery_experts = query_job.to_dataframe()\n",
        "\n",
        "bigquery_experts.head(10)"
      ],
      "metadata": {
        "colab": {
          "base_uri": "https://localhost:8080/",
          "height": 363
        },
        "cellView": "form",
        "id": "xWw39bRCJL_F",
        "outputId": "752b03ec-1995-4316-8239-5d2ebcaae93c"
      },
      "execution_count": 11,
      "outputs": [
        {
          "output_type": "execute_result",
          "data": {
            "text/plain": [
              "      user_id  number_of_answers\n",
              "0   5221944.0               4497\n",
              "1   1144035.0               1636\n",
              "2    132438.0                900\n",
              "3   6253347.0                736\n",
              "4   1366527.0                620\n",
              "5    243782.0                595\n",
              "6  13473525.0                380\n",
              "7   4490873.0                275\n",
              "8   2877278.0                261\n",
              "9  11206202.0                258"
            ],
            "text/html": [
              "\n",
              "  <div id=\"df-1270eea2-3b07-40d3-8c80-c203a23e5ef4\">\n",
              "    <div class=\"colab-df-container\">\n",
              "      <div>\n",
              "<style scoped>\n",
              "    .dataframe tbody tr th:only-of-type {\n",
              "        vertical-align: middle;\n",
              "    }\n",
              "\n",
              "    .dataframe tbody tr th {\n",
              "        vertical-align: top;\n",
              "    }\n",
              "\n",
              "    .dataframe thead th {\n",
              "        text-align: right;\n",
              "    }\n",
              "</style>\n",
              "<table border=\"1\" class=\"dataframe\">\n",
              "  <thead>\n",
              "    <tr style=\"text-align: right;\">\n",
              "      <th></th>\n",
              "      <th>user_id</th>\n",
              "      <th>number_of_answers</th>\n",
              "    </tr>\n",
              "  </thead>\n",
              "  <tbody>\n",
              "    <tr>\n",
              "      <th>0</th>\n",
              "      <td>5221944.0</td>\n",
              "      <td>4497</td>\n",
              "    </tr>\n",
              "    <tr>\n",
              "      <th>1</th>\n",
              "      <td>1144035.0</td>\n",
              "      <td>1636</td>\n",
              "    </tr>\n",
              "    <tr>\n",
              "      <th>2</th>\n",
              "      <td>132438.0</td>\n",
              "      <td>900</td>\n",
              "    </tr>\n",
              "    <tr>\n",
              "      <th>3</th>\n",
              "      <td>6253347.0</td>\n",
              "      <td>736</td>\n",
              "    </tr>\n",
              "    <tr>\n",
              "      <th>4</th>\n",
              "      <td>1366527.0</td>\n",
              "      <td>620</td>\n",
              "    </tr>\n",
              "    <tr>\n",
              "      <th>5</th>\n",
              "      <td>243782.0</td>\n",
              "      <td>595</td>\n",
              "    </tr>\n",
              "    <tr>\n",
              "      <th>6</th>\n",
              "      <td>13473525.0</td>\n",
              "      <td>380</td>\n",
              "    </tr>\n",
              "    <tr>\n",
              "      <th>7</th>\n",
              "      <td>4490873.0</td>\n",
              "      <td>275</td>\n",
              "    </tr>\n",
              "    <tr>\n",
              "      <th>8</th>\n",
              "      <td>2877278.0</td>\n",
              "      <td>261</td>\n",
              "    </tr>\n",
              "    <tr>\n",
              "      <th>9</th>\n",
              "      <td>11206202.0</td>\n",
              "      <td>258</td>\n",
              "    </tr>\n",
              "  </tbody>\n",
              "</table>\n",
              "</div>\n",
              "      <button class=\"colab-df-convert\" onclick=\"convertToInteractive('df-1270eea2-3b07-40d3-8c80-c203a23e5ef4')\"\n",
              "              title=\"Convert this dataframe to an interactive table.\"\n",
              "              style=\"display:none;\">\n",
              "        \n",
              "  <svg xmlns=\"http://www.w3.org/2000/svg\" height=\"24px\"viewBox=\"0 0 24 24\"\n",
              "       width=\"24px\">\n",
              "    <path d=\"M0 0h24v24H0V0z\" fill=\"none\"/>\n",
              "    <path d=\"M18.56 5.44l.94 2.06.94-2.06 2.06-.94-2.06-.94-.94-2.06-.94 2.06-2.06.94zm-11 1L8.5 8.5l.94-2.06 2.06-.94-2.06-.94L8.5 2.5l-.94 2.06-2.06.94zm10 10l.94 2.06.94-2.06 2.06-.94-2.06-.94-.94-2.06-.94 2.06-2.06.94z\"/><path d=\"M17.41 7.96l-1.37-1.37c-.4-.4-.92-.59-1.43-.59-.52 0-1.04.2-1.43.59L10.3 9.45l-7.72 7.72c-.78.78-.78 2.05 0 2.83L4 21.41c.39.39.9.59 1.41.59.51 0 1.02-.2 1.41-.59l7.78-7.78 2.81-2.81c.8-.78.8-2.07 0-2.86zM5.41 20L4 18.59l7.72-7.72 1.47 1.35L5.41 20z\"/>\n",
              "  </svg>\n",
              "      </button>\n",
              "      \n",
              "  <style>\n",
              "    .colab-df-container {\n",
              "      display:flex;\n",
              "      flex-wrap:wrap;\n",
              "      gap: 12px;\n",
              "    }\n",
              "\n",
              "    .colab-df-convert {\n",
              "      background-color: #E8F0FE;\n",
              "      border: none;\n",
              "      border-radius: 50%;\n",
              "      cursor: pointer;\n",
              "      display: none;\n",
              "      fill: #1967D2;\n",
              "      height: 32px;\n",
              "      padding: 0 0 0 0;\n",
              "      width: 32px;\n",
              "    }\n",
              "\n",
              "    .colab-df-convert:hover {\n",
              "      background-color: #E2EBFA;\n",
              "      box-shadow: 0px 1px 2px rgba(60, 64, 67, 0.3), 0px 1px 3px 1px rgba(60, 64, 67, 0.15);\n",
              "      fill: #174EA6;\n",
              "    }\n",
              "\n",
              "    [theme=dark] .colab-df-convert {\n",
              "      background-color: #3B4455;\n",
              "      fill: #D2E3FC;\n",
              "    }\n",
              "\n",
              "    [theme=dark] .colab-df-convert:hover {\n",
              "      background-color: #434B5C;\n",
              "      box-shadow: 0px 1px 3px 1px rgba(0, 0, 0, 0.15);\n",
              "      filter: drop-shadow(0px 1px 2px rgba(0, 0, 0, 0.3));\n",
              "      fill: #FFFFFF;\n",
              "    }\n",
              "  </style>\n",
              "\n",
              "      <script>\n",
              "        const buttonEl =\n",
              "          document.querySelector('#df-1270eea2-3b07-40d3-8c80-c203a23e5ef4 button.colab-df-convert');\n",
              "        buttonEl.style.display =\n",
              "          google.colab.kernel.accessAllowed ? 'block' : 'none';\n",
              "\n",
              "        async function convertToInteractive(key) {\n",
              "          const element = document.querySelector('#df-1270eea2-3b07-40d3-8c80-c203a23e5ef4');\n",
              "          const dataTable =\n",
              "            await google.colab.kernel.invokeFunction('convertToInteractive',\n",
              "                                                     [key], {});\n",
              "          if (!dataTable) return;\n",
              "\n",
              "          const docLinkHtml = 'Like what you see? Visit the ' +\n",
              "            '<a target=\"_blank\" href=https://colab.research.google.com/notebooks/data_table.ipynb>data table notebook</a>'\n",
              "            + ' to learn more about interactive tables.';\n",
              "          element.innerHTML = '';\n",
              "          dataTable['output_type'] = 'display_data';\n",
              "          await google.colab.output.renderOutput(dataTable, element);\n",
              "          const docLink = document.createElement('div');\n",
              "          docLink.innerHTML = docLinkHtml;\n",
              "          element.appendChild(docLink);\n",
              "        }\n",
              "      </script>\n",
              "    </div>\n",
              "  </div>\n",
              "  "
            ]
          },
          "metadata": {},
          "execution_count": 11
        }
      ]
    }
  ]
}