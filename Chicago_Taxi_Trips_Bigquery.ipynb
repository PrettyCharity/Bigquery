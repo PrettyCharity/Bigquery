{
  "nbformat": 4,
  "nbformat_minor": 0,
  "metadata": {
    "colab": {
      "name": "Chicago Taxi Trips -  Bigquery.ipynb",
      "provenance": [],
      "authorship_tag": "ABX9TyNptPRQTYJUmBudd0wgg3IT",
      "include_colab_link": true
    },
    "kernelspec": {
      "name": "python3",
      "display_name": "Python 3"
    },
    "language_info": {
      "name": "python"
    }
  },
  "cells": [
    {
      "cell_type": "markdown",
      "metadata": {
        "id": "view-in-github",
        "colab_type": "text"
      },
      "source": [
        "<a href=\"https://colab.research.google.com/github/PrettyCharity/Bigquery/blob/main/Chicago_Taxi_Trips_Bigquery.ipynb\" target=\"_parent\"><img src=\"https://colab.research.google.com/assets/colab-badge.svg\" alt=\"Open In Colab\"/></a>"
      ]
    },
    {
      "cell_type": "code",
      "execution_count": 1,
      "metadata": {
        "cellView": "form",
        "id": "zbdscF64GaCK"
      },
      "outputs": [],
      "source": [
        "#@title Google Cloud Credentials\n",
        "import os\n",
        "from google.cloud import bigquery\n",
        "# Credentials and the path\n",
        "credential_path = \"key.json\"\n",
        "os.environ['GOOGLE_APPLICATION_CREDENTIALS'] = credential_path"
      ]
    },
    {
      "cell_type": "code",
      "source": [
        "#@title Accessing the 'chicago_taxi_trips' via bigquery object\n",
        "client = bigquery.Client()\n",
        "dataset_ref = client.dataset('chicago_taxi_trips', project = 'bigquery-public-data')\n",
        "dataset = client.get_dataset(dataset_ref)"
      ],
      "metadata": {
        "cellView": "form",
        "id": "GM1X_G3LG5UE"
      },
      "execution_count": 2,
      "outputs": []
    },
    {
      "cell_type": "code",
      "source": [
        "#@title Exploring the tables of chicago_taxi_trips\n",
        "tables = client.list_tables(dataset)\n",
        "for table in tables:\n",
        "  print(table.table_id)"
      ],
      "metadata": {
        "colab": {
          "base_uri": "https://localhost:8080/"
        },
        "id": "VV2U0Q3AHU1b",
        "outputId": "c514534e-3046-4da9-e89c-3998060b5d94",
        "cellView": "form"
      },
      "execution_count": 3,
      "outputs": [
        {
          "output_type": "stream",
          "name": "stdout",
          "text": [
            "taxi_trips\n"
          ]
        }
      ]
    },
    {
      "cell_type": "code",
      "source": [
        "#@title Obtaining 'taxi_trips' table\n",
        "table_ref = dataset_ref.table('taxi_trips')\n",
        "table = client.get_table(table_ref)\n",
        "preview = client.list_rows(table, max_results = 5).to_dataframe()\n",
        "print('Table columns:\\n\\n')\n",
        "print(preview.columns)"
      ],
      "metadata": {
        "colab": {
          "base_uri": "https://localhost:8080/"
        },
        "cellView": "form",
        "id": "0SOX_S0ZHptg",
        "outputId": "b30af6f0-b65c-4c65-d10d-4472cb034150"
      },
      "execution_count": 4,
      "outputs": [
        {
          "output_type": "stream",
          "name": "stdout",
          "text": [
            "Table columns:\n",
            "\n",
            "\n",
            "Index(['unique_key', 'taxi_id', 'trip_start_timestamp', 'trip_end_timestamp',\n",
            "       'trip_seconds', 'trip_miles', 'pickup_census_tract',\n",
            "       'dropoff_census_tract', 'pickup_community_area',\n",
            "       'dropoff_community_area', 'fare', 'tips', 'tolls', 'extras',\n",
            "       'trip_total', 'payment_type', 'company', 'pickup_latitude',\n",
            "       'pickup_longitude', 'pickup_location', 'dropoff_latitude',\n",
            "       'dropoff_longitude', 'dropoff_location'],\n",
            "      dtype='object')\n"
          ]
        }
      ]
    },
    {
      "cell_type": "code",
      "source": [
        "#@title Construct the SQL query to determine # of trips and average speed per hour between January - July 2017\n",
        "query = \"\"\"\n",
        "            WITH RelevantRides AS\n",
        "            (\n",
        "               SELECT EXTRACT(HOUR FROM trip_start_timestamp) AS hour_of_day, \n",
        "                       trip_seconds, trip_miles \n",
        "               FROM `bigquery-public-data.chicago_taxi_trips.taxi_trips`\n",
        "               WHERE trip_start_timestamp > '2017-01-01' AND \n",
        "                     trip_start_timestamp < '2017-07-01'AND \n",
        "                     trip_seconds >0 AND trip_miles > 0\n",
        "            )\n",
        "            SELECT hour_of_day, COUNT(1) AS num_trips,\n",
        "                       3600 * SUM(trip_miles) / SUM(trip_seconds) AS avg_mph\n",
        "            FROM RelevantRides\n",
        "            GROUP BY hour_of_day\n",
        "            ORDER BY hour_of_day\n",
        "       \"\"\"  \n"
      ],
      "metadata": {
        "cellView": "form",
        "id": "LplxSU9YITbU"
      },
      "execution_count": 5,
      "outputs": []
    },
    {
      "cell_type": "code",
      "source": [
        "#@title Fetch data from the server and show the results\n",
        "# API request - run the query, and convert the results to a pandas DataFrame\n",
        "query_job = client.query(query)\n",
        "speed = query_job.to_dataframe()\n",
        "\n",
        "speed.style"
      ],
      "metadata": {
        "colab": {
          "base_uri": "https://localhost:8080/",
          "height": 802
        },
        "cellView": "form",
        "id": "xWw39bRCJL_F",
        "outputId": "bf44f7a0-bbbc-4287-a430-d8b2e4113f85"
      },
      "execution_count": 6,
      "outputs": [
        {
          "output_type": "execute_result",
          "data": {
            "text/plain": [
              "<pandas.io.formats.style.Styler at 0x7f641cea9b90>"
            ],
            "text/html": [
              "<style type=\"text/css\">\n",
              "</style>\n",
              "<table id=\"T_7f103_\" class=\"dataframe\">\n",
              "  <thead>\n",
              "    <tr>\n",
              "      <th class=\"blank level0\" >&nbsp;</th>\n",
              "      <th class=\"col_heading level0 col0\" >hour_of_day</th>\n",
              "      <th class=\"col_heading level0 col1\" >num_trips</th>\n",
              "      <th class=\"col_heading level0 col2\" >avg_mph</th>\n",
              "    </tr>\n",
              "  </thead>\n",
              "  <tbody>\n",
              "    <tr>\n",
              "      <th id=\"T_7f103_level0_row0\" class=\"row_heading level0 row0\" >0</th>\n",
              "      <td id=\"T_7f103_row0_col0\" class=\"data row0 col0\" >0</td>\n",
              "      <td id=\"T_7f103_row0_col1\" class=\"data row0 col1\" >319339</td>\n",
              "      <td id=\"T_7f103_row0_col2\" class=\"data row0 col2\" >20.230524</td>\n",
              "    </tr>\n",
              "    <tr>\n",
              "      <th id=\"T_7f103_level0_row1\" class=\"row_heading level0 row1\" >1</th>\n",
              "      <td id=\"T_7f103_row1_col0\" class=\"data row1 col0\" >1</td>\n",
              "      <td id=\"T_7f103_row1_col1\" class=\"data row1 col1\" >266529</td>\n",
              "      <td id=\"T_7f103_row1_col2\" class=\"data row1 col2\" >18.937621</td>\n",
              "    </tr>\n",
              "    <tr>\n",
              "      <th id=\"T_7f103_level0_row2\" class=\"row_heading level0 row2\" >2</th>\n",
              "      <td id=\"T_7f103_row2_col0\" class=\"data row2 col0\" >2</td>\n",
              "      <td id=\"T_7f103_row2_col1\" class=\"data row2 col1\" >210147</td>\n",
              "      <td id=\"T_7f103_row2_col2\" class=\"data row2 col2\" >18.777070</td>\n",
              "    </tr>\n",
              "    <tr>\n",
              "      <th id=\"T_7f103_level0_row3\" class=\"row_heading level0 row3\" >3</th>\n",
              "      <td id=\"T_7f103_row3_col0\" class=\"data row3 col0\" >3</td>\n",
              "      <td id=\"T_7f103_row3_col1\" class=\"data row3 col1\" >159668</td>\n",
              "      <td id=\"T_7f103_row3_col2\" class=\"data row3 col2\" >20.158048</td>\n",
              "    </tr>\n",
              "    <tr>\n",
              "      <th id=\"T_7f103_level0_row4\" class=\"row_heading level0 row4\" >4</th>\n",
              "      <td id=\"T_7f103_row4_col0\" class=\"data row4 col0\" >4</td>\n",
              "      <td id=\"T_7f103_row4_col1\" class=\"data row4 col1\" >122183</td>\n",
              "      <td id=\"T_7f103_row4_col2\" class=\"data row4 col2\" >26.736014</td>\n",
              "    </tr>\n",
              "    <tr>\n",
              "      <th id=\"T_7f103_level0_row5\" class=\"row_heading level0 row5\" >5</th>\n",
              "      <td id=\"T_7f103_row5_col0\" class=\"data row5 col0\" >5</td>\n",
              "      <td id=\"T_7f103_row5_col1\" class=\"data row5 col1\" >119312</td>\n",
              "      <td id=\"T_7f103_row5_col2\" class=\"data row5 col2\" >30.769172</td>\n",
              "    </tr>\n",
              "    <tr>\n",
              "      <th id=\"T_7f103_level0_row6\" class=\"row_heading level0 row6\" >6</th>\n",
              "      <td id=\"T_7f103_row6_col0\" class=\"data row6 col0\" >6</td>\n",
              "      <td id=\"T_7f103_row6_col1\" class=\"data row6 col1\" >182738</td>\n",
              "      <td id=\"T_7f103_row6_col2\" class=\"data row6 col2\" >24.588313</td>\n",
              "    </tr>\n",
              "    <tr>\n",
              "      <th id=\"T_7f103_level0_row7\" class=\"row_heading level0 row7\" >7</th>\n",
              "      <td id=\"T_7f103_row7_col0\" class=\"data row7 col0\" >7</td>\n",
              "      <td id=\"T_7f103_row7_col1\" class=\"data row7 col1\" >358406</td>\n",
              "      <td id=\"T_7f103_row7_col2\" class=\"data row7 col2\" >17.735967</td>\n",
              "    </tr>\n",
              "    <tr>\n",
              "      <th id=\"T_7f103_level0_row8\" class=\"row_heading level0 row8\" >8</th>\n",
              "      <td id=\"T_7f103_row8_col0\" class=\"data row8 col0\" >8</td>\n",
              "      <td id=\"T_7f103_row8_col1\" class=\"data row8 col1\" >541775</td>\n",
              "      <td id=\"T_7f103_row8_col2\" class=\"data row8 col2\" >15.079892</td>\n",
              "    </tr>\n",
              "    <tr>\n",
              "      <th id=\"T_7f103_level0_row9\" class=\"row_heading level0 row9\" >9</th>\n",
              "      <td id=\"T_7f103_row9_col0\" class=\"data row9 col0\" >9</td>\n",
              "      <td id=\"T_7f103_row9_col1\" class=\"data row9 col1\" >565548</td>\n",
              "      <td id=\"T_7f103_row9_col2\" class=\"data row9 col2\" >16.543882</td>\n",
              "    </tr>\n",
              "    <tr>\n",
              "      <th id=\"T_7f103_level0_row10\" class=\"row_heading level0 row10\" >10</th>\n",
              "      <td id=\"T_7f103_row10_col0\" class=\"data row10 col0\" >10</td>\n",
              "      <td id=\"T_7f103_row10_col1\" class=\"data row10 col1\" >525120</td>\n",
              "      <td id=\"T_7f103_row10_col2\" class=\"data row10 col2\" >18.539614</td>\n",
              "    </tr>\n",
              "    <tr>\n",
              "      <th id=\"T_7f103_level0_row11\" class=\"row_heading level0 row11\" >11</th>\n",
              "      <td id=\"T_7f103_row11_col0\" class=\"data row11 col0\" >11</td>\n",
              "      <td id=\"T_7f103_row11_col1\" class=\"data row11 col1\" >594603</td>\n",
              "      <td id=\"T_7f103_row11_col2\" class=\"data row11 col2\" >18.928379</td>\n",
              "    </tr>\n",
              "    <tr>\n",
              "      <th id=\"T_7f103_level0_row12\" class=\"row_heading level0 row12\" >12</th>\n",
              "      <td id=\"T_7f103_row12_col0\" class=\"data row12 col0\" >12</td>\n",
              "      <td id=\"T_7f103_row12_col1\" class=\"data row12 col1\" >622324</td>\n",
              "      <td id=\"T_7f103_row12_col2\" class=\"data row12 col2\" >17.838745</td>\n",
              "    </tr>\n",
              "    <tr>\n",
              "      <th id=\"T_7f103_level0_row13\" class=\"row_heading level0 row13\" >13</th>\n",
              "      <td id=\"T_7f103_row13_col0\" class=\"data row13 col0\" >13</td>\n",
              "      <td id=\"T_7f103_row13_col1\" class=\"data row13 col1\" >630181</td>\n",
              "      <td id=\"T_7f103_row13_col2\" class=\"data row13 col2\" >17.671089</td>\n",
              "    </tr>\n",
              "    <tr>\n",
              "      <th id=\"T_7f103_level0_row14\" class=\"row_heading level0 row14\" >14</th>\n",
              "      <td id=\"T_7f103_row14_col0\" class=\"data row14 col0\" >14</td>\n",
              "      <td id=\"T_7f103_row14_col1\" class=\"data row14 col1\" >622465</td>\n",
              "      <td id=\"T_7f103_row14_col2\" class=\"data row14 col2\" >16.974239</td>\n",
              "    </tr>\n",
              "    <tr>\n",
              "      <th id=\"T_7f103_level0_row15\" class=\"row_heading level0 row15\" >15</th>\n",
              "      <td id=\"T_7f103_row15_col0\" class=\"data row15 col0\" >15</td>\n",
              "      <td id=\"T_7f103_row15_col1\" class=\"data row15 col1\" >640430</td>\n",
              "      <td id=\"T_7f103_row15_col2\" class=\"data row15 col2\" >15.688418</td>\n",
              "    </tr>\n",
              "    <tr>\n",
              "      <th id=\"T_7f103_level0_row16\" class=\"row_heading level0 row16\" >16</th>\n",
              "      <td id=\"T_7f103_row16_col0\" class=\"data row16 col0\" >16</td>\n",
              "      <td id=\"T_7f103_row16_col1\" class=\"data row16 col1\" >701435</td>\n",
              "      <td id=\"T_7f103_row16_col2\" class=\"data row16 col2\" >14.283888</td>\n",
              "    </tr>\n",
              "    <tr>\n",
              "      <th id=\"T_7f103_level0_row17\" class=\"row_heading level0 row17\" >17</th>\n",
              "      <td id=\"T_7f103_row17_col0\" class=\"data row17 col0\" >17</td>\n",
              "      <td id=\"T_7f103_row17_col1\" class=\"data row17 col1\" >756627</td>\n",
              "      <td id=\"T_7f103_row17_col2\" class=\"data row17 col2\" >12.462955</td>\n",
              "    </tr>\n",
              "    <tr>\n",
              "      <th id=\"T_7f103_level0_row18\" class=\"row_heading level0 row18\" >18</th>\n",
              "      <td id=\"T_7f103_row18_col0\" class=\"data row18 col0\" >18</td>\n",
              "      <td id=\"T_7f103_row18_col1\" class=\"data row18 col1\" >768251</td>\n",
              "      <td id=\"T_7f103_row18_col2\" class=\"data row18 col2\" >13.646810</td>\n",
              "    </tr>\n",
              "    <tr>\n",
              "      <th id=\"T_7f103_level0_row19\" class=\"row_heading level0 row19\" >19</th>\n",
              "      <td id=\"T_7f103_row19_col0\" class=\"data row19 col0\" >19</td>\n",
              "      <td id=\"T_7f103_row19_col1\" class=\"data row19 col1\" >701064</td>\n",
              "      <td id=\"T_7f103_row19_col2\" class=\"data row19 col2\" >16.642882</td>\n",
              "    </tr>\n",
              "    <tr>\n",
              "      <th id=\"T_7f103_level0_row20\" class=\"row_heading level0 row20\" >20</th>\n",
              "      <td id=\"T_7f103_row20_col0\" class=\"data row20 col0\" >20</td>\n",
              "      <td id=\"T_7f103_row20_col1\" class=\"data row20 col1\" >598614</td>\n",
              "      <td id=\"T_7f103_row20_col2\" class=\"data row20 col2\" >19.536777</td>\n",
              "    </tr>\n",
              "    <tr>\n",
              "      <th id=\"T_7f103_level0_row21\" class=\"row_heading level0 row21\" >21</th>\n",
              "      <td id=\"T_7f103_row21_col0\" class=\"data row21 col0\" >21</td>\n",
              "      <td id=\"T_7f103_row21_col1\" class=\"data row21 col1\" >552726</td>\n",
              "      <td id=\"T_7f103_row21_col2\" class=\"data row21 col2\" >20.433874</td>\n",
              "    </tr>\n",
              "    <tr>\n",
              "      <th id=\"T_7f103_level0_row22\" class=\"row_heading level0 row22\" >22</th>\n",
              "      <td id=\"T_7f103_row22_col0\" class=\"data row22 col0\" >22</td>\n",
              "      <td id=\"T_7f103_row22_col1\" class=\"data row22 col1\" >501095</td>\n",
              "      <td id=\"T_7f103_row22_col2\" class=\"data row22 col2\" >19.531374</td>\n",
              "    </tr>\n",
              "    <tr>\n",
              "      <th id=\"T_7f103_level0_row23\" class=\"row_heading level0 row23\" >23</th>\n",
              "      <td id=\"T_7f103_row23_col0\" class=\"data row23 col0\" >23</td>\n",
              "      <td id=\"T_7f103_row23_col1\" class=\"data row23 col1\" >399587</td>\n",
              "      <td id=\"T_7f103_row23_col2\" class=\"data row23 col2\" >19.877046</td>\n",
              "    </tr>\n",
              "  </tbody>\n",
              "</table>\n"
            ]
          },
          "metadata": {},
          "execution_count": 6
        }
      ]
    },
    {
      "cell_type": "code",
      "source": [
        "#@title Plotting the speed data\n",
        "speed.plot(x = 'hour_of_day', y = 'avg_mph', kind = 'line', title = 'Average speed during the day', xticks = range(0, 24))"
      ],
      "metadata": {
        "colab": {
          "base_uri": "https://localhost:8080/",
          "height": 315
        },
        "cellView": "form",
        "id": "5uWRFKvdRJ61",
        "outputId": "781c210d-944b-478a-a616-0173297dfd93"
      },
      "execution_count": 11,
      "outputs": [
        {
          "output_type": "execute_result",
          "data": {
            "text/plain": [
              "<matplotlib.axes._subplots.AxesSubplot at 0x7f641c6948d0>"
            ]
          },
          "metadata": {},
          "execution_count": 11
        },
        {
          "output_type": "display_data",
          "data": {
            "text/plain": [
              "<Figure size 432x288 with 1 Axes>"
            ],
            "image/png": "[encoded data removed]"
          },
          "metadata": {
            "needs_background": "light"
          }
        }
      ]
    }
  ]
}